{
  "nbformat": 4,
  "nbformat_minor": 0,
  "metadata": {
    "colab": {
      "name": "Compare Basketball Players.ipynb",
      "provenance": [],
      "collapsed_sections": [],
      "authorship_tag": "ABX9TyPGY7+wqZzZkmHcLhCNra6H",
      "include_colab_link": true
    },
    "kernelspec": {
      "name": "python3",
      "display_name": "Python 3"
    }
  },
  "cells": [
    {
      "cell_type": "markdown",
      "metadata": {
        "id": "view-in-github",
        "colab_type": "text"
      },
      "source": [
        "<a href=\"https://colab.research.google.com/github/perlstein/BasketballPlayers/blob/master/Compare_Basketball_Players.ipynb\" target=\"_parent\"><img src=\"https://colab.research.google.com/assets/colab-badge.svg\" alt=\"Open In Colab\"/></a>"
      ]
    },
    {
      "cell_type": "code",
      "metadata": {
        "id": "ljDuFCQqPFW5",
        "colab_type": "code",
        "colab": {}
      },
      "source": [
        "#import elements needed\n",
        "import bs4\n",
        "import requests\n",
        "import pandas as pd\n",
        "import numpy as np\n",
        "import boto3\n",
        "import matplotlib.pyplot as plt\n",
        "from IPython.display import display"
      ],
      "execution_count": null,
      "outputs": []
    },
    {
      "cell_type": "code",
      "metadata": {
        "id": "iRsF44bgPGDh",
        "colab_type": "code",
        "colab": {}
      },
      "source": [
        "# Defining how we get the basketball stats\n",
        "def get_basketball_stats(link='https://en.wikipedia.org/wiki/Michael_Jordan'):\n",
        "    # read the webpage \n",
        "    response = requests.get(link)\n",
        "    # create a BeautifulSoup object to parse the HTML  \n",
        "    soup = bs4.BeautifulSoup(response.text, 'html.parser')\n",
        "    # the player stats are defined  with the attribute CSS class set to 'wikitable sortable'; \n",
        "    #therefore we create a tag object \"table\"\n",
        "    table=soup.find(class_='wikitable sortable')\n",
        "\n",
        "    #the headers of the table are the first table row (tr) we create a tag object that has the first row  \n",
        "    headers=table.tr\n",
        "    #the table column names are displayed  as an abbreviation; therefore we find all the abbr tags and returs an Iterator\n",
        "    titles=headers.find_all(\"abbr\")\n",
        "    #we create a dictionary  and pass the table headers as the keys \n",
        "    data = {title['title']:[] for title in titles}\n",
        "   #we will store each column as a list in a dictionary, the header of the column will be the dictionary key \n",
        "\n",
        "    #we iterate over each table row by fining each table tag tr and assign it to the objed\n",
        "    for row in table.find_all('tr')[1:]:\n",
        "    \n",
        "        #we iterate over each cell in the table, as each cell corresponds to a different column we all obtain the correspondin key corresponding the column n \n",
        "        for key,a in zip(data.keys(),row.find_all(\"td\")[2:]):\n",
        "            # we append each elment and strip any extra HTML contnet \n",
        "            data[key].append(''.join(c for c in a.text if (c.isdigit() or c == \".\")))\n",
        "\n",
        "    # we remove extra rows by finding the smallest list     \n",
        "    Min=min([len(x)  for x in data.values()])\n",
        "    #we convert the elements in the key to floats \n",
        "    for key in data.keys():\n",
        "    \n",
        "        data[key]=list(map(lambda x: float(x), data[key][:Min]))\n",
        "       \n",
        "    return data"
      ],
      "execution_count": null,
      "outputs": []
    },
    {
      "cell_type": "code",
      "metadata": {
        "id": "BERZkYPBPTdF",
        "colab_type": "code",
        "colab": {}
      },
      "source": [
        "#Links & Names\n",
        "links=['https://en.wikipedia.org/wiki/Michael_Jordan'\\\n",
        "       ,'https://en.wikipedia.org/wiki/Kobe_Bryant'\\\n",
        "      ,'https://en.wikipedia.org/wiki/LeBron_James'\\\n",
        "      ,'https://en.wikipedia.org/wiki/Stephen_Curry']\n",
        "names=['Michael Jordan','Kobe Bryant','Lebron James','Stephen Curry']\n",
        "\n"
      ],
      "execution_count": null,
      "outputs": []
    },
    {
      "cell_type": "code",
      "metadata": {
        "id": "eT1kC0Y3Txzm",
        "colab_type": "code",
        "colab": {}
      },
      "source": [
        "#add player\n",
        "def add_player():\n",
        "  x, z = input(\"Basketball Player's Name: \"), input(\"Enter Their Wikipedia Page: \") \n",
        "  print(\"Cool, I added: \", x) \n",
        "  print(\"With the Wikipedia Page \", z)\n",
        "  links.append(z)\n",
        "  names.append(x)"
      ],
      "execution_count": null,
      "outputs": []
    },
    {
      "cell_type": "code",
      "metadata": {
        "id": "SQ11G4siT8JL",
        "colab_type": "code",
        "colab": {}
      },
      "source": [
        "# Define Yes or no Do you want to add more players?\n",
        "def yes_or_no(question):\n",
        "    while \"the answer is invalid\":\n",
        "        reply = str(input(question+' (y/n): ')).lower().strip()\n",
        "        if reply[0] == 'y':\n",
        "            add_player()\n",
        "            yes_or_no(\"Do you want to add another player?\")\n",
        "            break\n",
        "        if reply[0] == 'n':\n",
        "            print(\"Ok, we'll compare :\") \n",
        "            print(names)\n",
        "            #import sys\n",
        "            #sys.exit() # replace the 'return False' above with this statement\n",
        "            break\n",
        " "
      ],
      "execution_count": null,
      "outputs": []
    },
    {
      "cell_type": "code",
      "metadata": {
        "id": "mq9VKXAqXHCc",
        "colab_type": "code",
        "colab": {
          "base_uri": "https://localhost:8080/",
          "height": 153
        },
        "outputId": "054e240f-2761-4cbd-ec67-f98a34fae87f"
      },
      "source": [
        "#Run Yes or No Add Player\n",
        "yes_or_no(\"Do you want to add a player?\")"
      ],
      "execution_count": null,
      "outputs": [
        {
          "output_type": "stream",
          "text": [
            "Do you want to add a player? (y/n): y\n",
            "Basketball Player's Name: James Harden\n",
            "Enter Their Wikipedia Page: https://en.wikipedia.org/wiki/James_Harden\n",
            "Cool, I added:  James Harden\n",
            "With the Wikipedia Page  https://en.wikipedia.org/wiki/James_Harden\n",
            "Do you want to add another player? (y/n): n\n",
            "Ok, we'll compare :\n",
            "['Michael Jordan', 'Kobe Bryant', 'Lebron James', 'Stephen Curry', 'James Harden']\n"
          ],
          "name": "stdout"
        }
      ]
    },
    {
      "cell_type": "code",
      "metadata": {
        "id": "ilbJSgurPeCo",
        "colab_type": "code",
        "colab": {}
      },
      "source": [
        "convs=[]\n",
        "for d in links:\n",
        "  convs.append((get_basketball_stats(d)))\n",
        "\n",
        "#Convs now is all the data pulled into a list, now we need to put it into a Panda\n",
        "playstatlist =[]\n",
        "index = 0\n",
        "while index < len(convs):\n",
        "    playstatlist.append (pd.DataFrame(convs[index]))\n",
        "    index = index + 1\n"
      ],
      "execution_count": null,
      "outputs": []
    },
    {
      "cell_type": "code",
      "metadata": {
        "id": "Eqw2QOP0Puqg",
        "colab_type": "code",
        "colab": {}
      },
      "source": [
        "# Creating Classes\n",
        "class color:\n",
        "   PURPLE = '\\033[95m'\n",
        "   CYAN = '\\033[96m'\n",
        "   DARKCYAN = '\\033[36m'\n",
        "   BLUE = '\\033[94m'\n",
        "   GREEN = '\\033[92m'\n",
        "   YELLOW = '\\033[93m'\n",
        "   RED = '\\033[91m'\n",
        "   BOLD = '\\033[1m'\n",
        "   UNDERLINE = '\\033[4m'\n",
        "   END = '\\033[0m'"
      ],
      "execution_count": null,
      "outputs": []
    },
    {
      "cell_type": "code",
      "metadata": {
        "id": "qHp91r2-438r",
        "colab_type": "code",
        "colab": {
          "base_uri": "https://localhost:8080/",
          "height": 408
        },
        "outputId": "2834fc00-7658-4ca9-b82d-105d7dc5ded0"
      },
      "source": [
        "#Preview\n",
        "print(playstatlist[1])"
      ],
      "execution_count": null,
      "outputs": [
        {
          "output_type": "stream",
          "text": [
            "    Games played  Games started  ...  Blocks per game  Points per game\n",
            "0           71.0            6.0  ...              0.3              7.6\n",
            "1           79.0            1.0  ...              0.5             15.4\n",
            "2           50.0           50.0  ...              1.0             19.9\n",
            "3           66.0           62.0  ...              0.9             22.5\n",
            "4           68.0           68.0  ...              0.6             28.5\n",
            "5           80.0           80.0  ...              0.4             25.2\n",
            "6           82.0           82.0  ...              0.8             30.0\n",
            "7           65.0           64.0  ...              0.4             24.0\n",
            "8           66.0           66.0  ...              0.8             27.6\n",
            "9           80.0           80.0  ...              0.4             35.4\n",
            "10          77.0           77.0  ...              0.5             31.6\n",
            "11          82.0           82.0  ...              0.5             28.3\n",
            "12          82.0           82.0  ...              0.5             26.8\n",
            "13          73.0           73.0  ...              0.3             27.0\n",
            "14          82.0           82.0  ...              0.1             25.3\n",
            "15          58.0           58.0  ...              0.3             27.9\n",
            "16          78.0           78.0  ...              0.3             27.3\n",
            "17           6.0            6.0  ...              0.2             13.8\n",
            "18          35.0           35.0  ...              0.2             22.3\n",
            "19          66.0           66.0  ...              0.2             17.6\n",
            "\n",
            "[20 rows x 11 columns]\n"
          ],
          "name": "stdout"
        }
      ]
    },
    {
      "cell_type": "code",
      "metadata": {
        "id": "4KHhFQ10P5Z3",
        "colab_type": "code",
        "colab": {}
      },
      "source": [
        "#Define Points Per Game Function\n",
        "def ppg (data_frame=playstatlist[0], name=\"Name\"):\n",
        "    plt.plot(data_frame[['Points per game']],label=name)\n",
        "    plt.legend()\n",
        "    plt.xlabel('years')\n",
        "    plt.ylabel('Points per game')\n",
        "\n"
      ],
      "execution_count": null,
      "outputs": []
    },
    {
      "cell_type": "code",
      "metadata": {
        "id": "hB5rtqUd2iKW",
        "colab_type": "code",
        "colab": {
          "base_uri": "https://localhost:8080/",
          "height": 313
        },
        "outputId": "f227fe66-956a-4b53-9157-5129254c7ac1"
      },
      "source": [
        "print(\"Here's a comparison of the Points Per Game for :\")\n",
        "print(names)\n",
        "m=0\n",
        "for m in range(len(playstatlist)):\n",
        "  ppg (playstatlist[m], names[m])\n",
        "  m+1\n",
        "\n"
      ],
      "execution_count": null,
      "outputs": [
        {
          "output_type": "stream",
          "text": [
            "Here's a comparison of the Points Per Game for :\n",
            "['Michael Jordan', 'Kobe Bryant', 'Lebron James', 'Stephen Curry', 'James Harden']\n"
          ],
          "name": "stdout"
        },
        {
          "output_type": "display_data",
          "data": {
            "image/png": "[encoded data removed]",
            "text/plain": [
              "<Figure size 432x288 with 1 Axes>"
            ]
          },
          "metadata": {
            "tags": [],
            "needs_background": "light"
          }
        }
      ]
    }
  ]
}